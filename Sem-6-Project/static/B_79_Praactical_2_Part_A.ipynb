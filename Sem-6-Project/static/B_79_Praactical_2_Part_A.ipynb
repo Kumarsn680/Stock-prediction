{
  "cells": [
    {
      "cell_type": "markdown",
      "metadata": {
        "id": "EBfhBueSQBSw"
      },
      "source": [
        "Aim: Data Visualization and preprocessing on the given data set in Python.\n",
        "PART (A): Data Visualization using Matplotlib\n",
        "Write a program to visualize Company Sales Data &amp; perform the following task\n",
        "(CSV file will be provided)\n",
        "Note: For all the plots, specify the title &amp; labels by setting appropriate properties &amp; also\n",
        "write the detail analysis for all the plots.\n",
        "Do as Directed On Company Sales Data:\n",
        "1. Read Total profit of all months and show it using a line plot\n",
        "2. Read all product sales data and show it using a multiline plot\n",
        "3. Display the number of units sold per month for each product using multiline plots. (i.e.,\n",
        "Separate Plotline for each product).\n",
        "4. Read toothpaste sales data of each month and show it using a scatter plot.\n",
        "5. Read face cream and facewash product sales data and show it using the bar chart.\n",
        "6. Read sales data of bathing soap of all months and show it using a bar chart. Save this\n",
        "plot to your hard disk\n",
        "7. Read the total profit of each month and show it using the histogram to see the most\n",
        "common profit ranges\n",
        "8. Calculate total sale data for last year for each product and show it using a Pie chart.\n",
        "9. Read Bathing soap facewash of all months and display it using the Subplot\n",
        "10. Read all product sales data and show it using the stack plot.\n",
        "11. Get total profit of all months and show line plot with the following Style properties.\n",
        "12. Generated line plot must include following Style properties:\n",
        " Line Style dotted and Line-color should be red\n",
        " Show legend at the lower right location.\n",
        " X label name = Month Number\n",
        " Y label name = Sold unit’s number\n",
        " Add a circle marker.\n",
        " Line marker color as red\n",
        " Line width should be 3\n",
        "Do as Directed:\n",
        "1. Draw a scatter graph of any 50 random values of x and y axis.\n",
        "2. Create data using numpy array from 0 to 5 with a gap of 0.01 for x axis, consider y axis\n",
        "as square values of x and show the line graph with grid lines\n",
        "3. Create linear, square and cube data points and create a multiline graph for the same\n",
        "with title to graph and both axis.\n",
        "4. The dataset given, records data of city temperatures over the years’2014 and 2015. Plot\n",
        "the histogram of the temperatures over this period for the cities of San Francisco and\n",
        "Moscow."
      ]
    },
    {
      "cell_type": "markdown",
      "metadata": {
        "id": "-1WJweo7Qfw9"
      },
      "source": [
        "# ***Aim: Data Visualization and preprocessing on the given data set in Python.***\n"
      ]
    },
    {
      "cell_type": "code",
      "execution_count": 1,
      "metadata": {
        "id": "0ZcrCsyoSuO0"
      },
      "outputs": [],
      "source": [
        "import matplotlib.pyplot as plt\n",
        "import numpy as np\n",
        "import pandas as pd"
      ]
    },
    {
      "cell_type": "markdown",
      "metadata": {
        "id": "i6LuRPzvT-9q"
      },
      "source": [
        "**1. Read Total profit of all months and show it using a line plot**"
      ]
    },
    {
      "cell_type": "markdown",
      "metadata": {
        "id": "Cli6R7ajT6k3"
      },
      "source": [
        ""
      ]
    },
    {
      "cell_type": "code",
      "execution_count": 3,
      "metadata": {
        "colab": {
          "base_uri": "https://localhost:8080/",
          "height": 204
        },
        "id": "rQRSdd4nQUc8",
        "outputId": "3a7b506c-b2b0-4dcd-c920-cbe9022853b4"
      },
      "outputs": [
        {
          "output_type": "execute_result",
          "data": {
            "text/plain": [
              "   month_number  facecream  facewash  toothpaste  bathingsoap  shampoo  \\\n",
              "0             1       2500      1500        5200         9200     1200   \n",
              "1             2       2630      1200        5100         6100     2100   \n",
              "2             3       2140      1340        4550         9550     3550   \n",
              "3             4       3400      1130        5870         8870     1870   \n",
              "4             5       3600      1740        4560         7760     1560   \n",
              "\n",
              "   moisturizer  total_units  total_profit  \n",
              "0         1500        21100        211000  \n",
              "1         1200        18330        183300  \n",
              "2         1340        22470        224700  \n",
              "3         1130        22270        222700  \n",
              "4         1740        20960        209600  "
            ],
            "text/html": [
              "\n",
              "  <div id=\"df-f40977a7-eeaa-423f-8af7-7d5a14a629f6\">\n",
              "    <div class=\"colab-df-container\">\n",
              "      <div>\n",
              "<style scoped>\n",
              "    .dataframe tbody tr th:only-of-type {\n",
              "        vertical-align: middle;\n",
              "    }\n",
              "\n",
              "    .dataframe tbody tr th {\n",
              "        vertical-align: top;\n",
              "    }\n",
              "\n",
              "    .dataframe thead th {\n",
              "        text-align: right;\n",
              "    }\n",
              "</style>\n",
              "<table border=\"1\" class=\"dataframe\">\n",
              "  <thead>\n",
              "    <tr style=\"text-align: right;\">\n",
              "      <th></th>\n",
              "      <th>month_number</th>\n",
              "      <th>facecream</th>\n",
              "      <th>facewash</th>\n",
              "      <th>toothpaste</th>\n",
              "      <th>bathingsoap</th>\n",
              "      <th>shampoo</th>\n",
              "      <th>moisturizer</th>\n",
              "      <th>total_units</th>\n",
              "      <th>total_profit</th>\n",
              "    </tr>\n",
              "  </thead>\n",
              "  <tbody>\n",
              "    <tr>\n",
              "      <th>0</th>\n",
              "      <td>1</td>\n",
              "      <td>2500</td>\n",
              "      <td>1500</td>\n",
              "      <td>5200</td>\n",
              "      <td>9200</td>\n",
              "      <td>1200</td>\n",
              "      <td>1500</td>\n",
              "      <td>21100</td>\n",
              "      <td>211000</td>\n",
              "    </tr>\n",
              "    <tr>\n",
              "      <th>1</th>\n",
              "      <td>2</td>\n",
              "      <td>2630</td>\n",
              "      <td>1200</td>\n",
              "      <td>5100</td>\n",
              "      <td>6100</td>\n",
              "      <td>2100</td>\n",
              "      <td>1200</td>\n",
              "      <td>18330</td>\n",
              "      <td>183300</td>\n",
              "    </tr>\n",
              "    <tr>\n",
              "      <th>2</th>\n",
              "      <td>3</td>\n",
              "      <td>2140</td>\n",
              "      <td>1340</td>\n",
              "      <td>4550</td>\n",
              "      <td>9550</td>\n",
              "      <td>3550</td>\n",
              "      <td>1340</td>\n",
              "      <td>22470</td>\n",
              "      <td>224700</td>\n",
              "    </tr>\n",
              "    <tr>\n",
              "      <th>3</th>\n",
              "      <td>4</td>\n",
              "      <td>3400</td>\n",
              "      <td>1130</td>\n",
              "      <td>5870</td>\n",
              "      <td>8870</td>\n",
              "      <td>1870</td>\n",
              "      <td>1130</td>\n",
              "      <td>22270</td>\n",
              "      <td>222700</td>\n",
              "    </tr>\n",
              "    <tr>\n",
              "      <th>4</th>\n",
              "      <td>5</td>\n",
              "      <td>3600</td>\n",
              "      <td>1740</td>\n",
              "      <td>4560</td>\n",
              "      <td>7760</td>\n",
              "      <td>1560</td>\n",
              "      <td>1740</td>\n",
              "      <td>20960</td>\n",
              "      <td>209600</td>\n",
              "    </tr>\n",
              "  </tbody>\n",
              "</table>\n",
              "</div>\n",
              "      <button class=\"colab-df-convert\" onclick=\"convertToInteractive('df-f40977a7-eeaa-423f-8af7-7d5a14a629f6')\"\n",
              "              title=\"Convert this dataframe to an interactive table.\"\n",
              "              style=\"display:none;\">\n",
              "        \n",
              "  <svg xmlns=\"http://www.w3.org/2000/svg\" height=\"24px\"viewBox=\"0 0 24 24\"\n",
              "       width=\"24px\">\n",
              "    <path d=\"M0 0h24v24H0V0z\" fill=\"none\"/>\n",
              "    <path d=\"M18.56 5.44l.94 2.06.94-2.06 2.06-.94-2.06-.94-.94-2.06-.94 2.06-2.06.94zm-11 1L8.5 8.5l.94-2.06 2.06-.94-2.06-.94L8.5 2.5l-.94 2.06-2.06.94zm10 10l.94 2.06.94-2.06 2.06-.94-2.06-.94-.94-2.06-.94 2.06-2.06.94z\"/><path d=\"M17.41 7.96l-1.37-1.37c-.4-.4-.92-.59-1.43-.59-.52 0-1.04.2-1.43.59L10.3 9.45l-7.72 7.72c-.78.78-.78 2.05 0 2.83L4 21.41c.39.39.9.59 1.41.59.51 0 1.02-.2 1.41-.59l7.78-7.78 2.81-2.81c.8-.78.8-2.07 0-2.86zM5.41 20L4 18.59l7.72-7.72 1.47 1.35L5.41 20z\"/>\n",
              "  </svg>\n",
              "      </button>\n",
              "      \n",
              "  <style>\n",
              "    .colab-df-container {\n",
              "      display:flex;\n",
              "      flex-wrap:wrap;\n",
              "      gap: 12px;\n",
              "    }\n",
              "\n",
              "    .colab-df-convert {\n",
              "      background-color: #E8F0FE;\n",
              "      border: none;\n",
              "      border-radius: 50%;\n",
              "      cursor: pointer;\n",
              "      display: none;\n",
              "      fill: #1967D2;\n",
              "      height: 32px;\n",
              "      padding: 0 0 0 0;\n",
              "      width: 32px;\n",
              "    }\n",
              "\n",
              "    .colab-df-convert:hover {\n",
              "      background-color: #E2EBFA;\n",
              "      box-shadow: 0px 1px 2px rgba(60, 64, 67, 0.3), 0px 1px 3px 1px rgba(60, 64, 67, 0.15);\n",
              "      fill: #174EA6;\n",
              "    }\n",
              "\n",
              "    [theme=dark] .colab-df-convert {\n",
              "      background-color: #3B4455;\n",
              "      fill: #D2E3FC;\n",
              "    }\n",
              "\n",
              "    [theme=dark] .colab-df-convert:hover {\n",
              "      background-color: #434B5C;\n",
              "      box-shadow: 0px 1px 3px 1px rgba(0, 0, 0, 0.15);\n",
              "      filter: drop-shadow(0px 1px 2px rgba(0, 0, 0, 0.3));\n",
              "      fill: #FFFFFF;\n",
              "    }\n",
              "  </style>\n",
              "\n",
              "      <script>\n",
              "        const buttonEl =\n",
              "          document.querySelector('#df-f40977a7-eeaa-423f-8af7-7d5a14a629f6 button.colab-df-convert');\n",
              "        buttonEl.style.display =\n",
              "          google.colab.kernel.accessAllowed ? 'block' : 'none';\n",
              "\n",
              "        async function convertToInteractive(key) {\n",
              "          const element = document.querySelector('#df-f40977a7-eeaa-423f-8af7-7d5a14a629f6');\n",
              "          const dataTable =\n",
              "            await google.colab.kernel.invokeFunction('convertToInteractive',\n",
              "                                                     [key], {});\n",
              "          if (!dataTable) return;\n",
              "\n",
              "          const docLinkHtml = 'Like what you see? Visit the ' +\n",
              "            '<a target=\"_blank\" href=https://colab.research.google.com/notebooks/data_table.ipynb>data table notebook</a>'\n",
              "            + ' to learn more about interactive tables.';\n",
              "          element.innerHTML = '';\n",
              "          dataTable['output_type'] = 'display_data';\n",
              "          await google.colab.output.renderOutput(dataTable, element);\n",
              "          const docLink = document.createElement('div');\n",
              "          docLink.innerHTML = docLinkHtml;\n",
              "          element.appendChild(docLink);\n",
              "        }\n",
              "      </script>\n",
              "    </div>\n",
              "  </div>\n",
              "  "
            ]
          },
          "metadata": {},
          "execution_count": 3
        }
      ],
      "source": [
        "\n",
        "df = pd.read_csv('company_sales_data.csv')\n",
        "# x = df['']\n",
        "df.head()"
      ]
    },
    {
      "cell_type": "code",
      "execution_count": 4,
      "metadata": {
        "colab": {
          "base_uri": "https://localhost:8080/",
          "height": 314
        },
        "id": "vqR3iVVfSlFJ",
        "outputId": "76141fcb-57cc-4518-8468-3d9c6802d369"
      },
      "outputs": [
        {
          "output_type": "execute_result",
          "data": {
            "text/plain": [
              "Text(0.5, 1.0, 'Total Profit of all months')"
            ]
          },
          "metadata": {},
          "execution_count": 4
        },
        {
          "output_type": "display_data",
          "data": {
            "text/plain": [
              "<Figure size 432x288 with 1 Axes>"
            ],
            "image/png": "[encoded data removed]"
          },
          "metadata": {
            "needs_background": "light"
          }
        }
      ],
      "source": [
        "y = df['total_profit']\n",
        "x = df['month_number']\n",
        "plt.plot(x,y)\n",
        "plt.xlabel(\"month_number\")\n",
        "plt.ylabel(\"total_profit\")\n",
        "plt.title(\"Total Profit of all months\")\n"
      ]
    },
    {
      "cell_type": "markdown",
      "metadata": {
        "id": "YZvW2L8EUCYZ"
      },
      "source": [
        "**2. Read all product sales data and show it using a multiline plot**"
      ]
    },
    {
      "cell_type": "code",
      "execution_count": 6,
      "metadata": {
        "colab": {
          "base_uri": "https://localhost:8080/",
          "height": 407
        },
        "id": "gVWm95k8UHXN",
        "outputId": "40beba46-12e1-47b8-f537-ae125f937a87"
      },
      "outputs": [
        {
          "output_type": "execute_result",
          "data": {
            "text/plain": [
              "[<matplotlib.lines.Line2D at 0x7fb9d55db310>,\n",
              " <matplotlib.lines.Line2D at 0x7fb9d55db550>,\n",
              " <matplotlib.lines.Line2D at 0x7fb9d55db710>,\n",
              " <matplotlib.lines.Line2D at 0x7fb9d55db8d0>,\n",
              " <matplotlib.lines.Line2D at 0x7fb9d55dba90>,\n",
              " <matplotlib.lines.Line2D at 0x7fb9d55dbc90>,\n",
              " <matplotlib.lines.Line2D at 0x7fb9d55dbe50>,\n",
              " <matplotlib.lines.Line2D at 0x7fb9d55dbfd0>]"
            ]
          },
          "metadata": {},
          "execution_count": 6
        },
        {
          "output_type": "display_data",
          "data": {
            "text/plain": [
              "<Figure size 432x288 with 1 Axes>"
            ],
            "image/png": "[encoded data removed]"
          },
          "metadata": {
            "needs_background": "light"
          }
        }
      ],
      "source": [
        "y1 = df['facecream']\n",
        "x1 = df['month_number']\n",
        "y2 = df['facewash']\n",
        "x2 = df['month_number']\n",
        "y3 = df['toothpaste']\n",
        "x3 = df['month_number']\n",
        "y4 = df['bathingsoap']\n",
        "x4 = df['month_number']\n",
        "y5 = df['shampoo']\n",
        "x5 = df['month_number']\n",
        "y6 = df['moisturizer']\n",
        "x6 = df['month_number']\n",
        "y7 = df['toothpaste']\n",
        "x7 = df['month_number']\n",
        "y8 = df['bathingsoap']\n",
        "x8 = df['month_number']\n",
        "plt.plot(x1,y1,x2,y2,x3,y3,x4,y4,x5,y5,x6,y6,x7,y7,x8,y8)\n",
        "\n",
        "\n"
      ]
    },
    {
      "cell_type": "markdown",
      "source": [
        "**4. Read toothpaste sales data of each month and show it using a scatter plot.**"
      ],
      "metadata": {
        "id": "57zaFWwbbl38"
      }
    },
    {
      "cell_type": "code",
      "source": [
        "y = df['toothpaste']\n",
        "x = df['month_number']\n",
        "\n",
        "\n",
        "plt.scatter(x,y)"
      ],
      "metadata": {
        "id": "TrU-JpxEbpwf",
        "colab": {
          "base_uri": "https://localhost:8080/",
          "height": 283
        },
        "outputId": "a3d45aa5-8653-42aa-d4b9-4b6a05f62a7b"
      },
      "execution_count": 7,
      "outputs": [
        {
          "output_type": "execute_result",
          "data": {
            "text/plain": [
              "<matplotlib.collections.PathCollection at 0x7fb9d55d05d0>"
            ]
          },
          "metadata": {},
          "execution_count": 7
        },
        {
          "output_type": "display_data",
          "data": {
            "text/plain": [
              "<Figure size 432x288 with 1 Axes>"
            ],
            "image/png": "[encoded data removed]"
          },
          "metadata": {
            "needs_background": "light"
          }
        }
      ]
    },
    {
      "cell_type": "markdown",
      "source": [
        "**5. Read face cream and facewash product sales data and show it using the bar chart.**"
      ],
      "metadata": {
        "id": "CEooaD_6cdwz"
      }
    },
    {
      "cell_type": "code",
      "source": [
        "y1 = df['facecream']\n",
        "y2 = df['facewash']\n",
        "\n",
        "x = df['month_number']\n",
        "plt.subplot(1,2,1)\n",
        "plt.bar(x,y1)\n",
        "plt.subplot(1,2,2)\n",
        "plt.bar(x,y2)\n",
        "plt.show()"
      ],
      "metadata": {
        "colab": {
          "base_uri": "https://localhost:8080/",
          "height": 265
        },
        "id": "3fcTLCeJcdSi",
        "outputId": "09eb2e67-33e2-41ea-9e6a-3b95caed1580"
      },
      "execution_count": 9,
      "outputs": [
        {
          "output_type": "display_data",
          "data": {
            "text/plain": [
              "<Figure size 432x288 with 2 Axes>"
            ],
            "image/png": "[encoded data removed]"
          },
          "metadata": {
            "needs_background": "light"
          }
        }
      ]
    },
    {
      "cell_type": "markdown",
      "source": [
        "6. Read sales data of bathing soap of all months and show it using a bar chart. Save this\n",
        "plot to your hard disk"
      ],
      "metadata": {
        "id": "sJo-tYsW4SrD"
      }
    },
    {
      "cell_type": "code",
      "source": [
        "y = df['bathingsoap']\n",
        "x = df['month_number']\n",
        "\n",
        "plt.bar(x,y)\n",
        "plt.savefig('question6.png')"
      ],
      "metadata": {
        "colab": {
          "base_uri": "https://localhost:8080/",
          "height": 265
        },
        "id": "lqc83OIe4UEO",
        "outputId": "bf1a037d-68a0-4658-fc88-68188b94f610"
      },
      "execution_count": 12,
      "outputs": [
        {
          "output_type": "display_data",
          "data": {
            "text/plain": [
              "<Figure size 432x288 with 1 Axes>"
            ],
            "image/png": "[encoded data removed]"
          },
          "metadata": {
            "needs_background": "light"
          }
        }
      ]
    },
    {
      "cell_type": "markdown",
      "source": [
        "7. Read the total profit of each month and show it using the histogram to see the most\n",
        "common profit ranges"
      ],
      "metadata": {
        "id": "MXHUOyWF5O11"
      }
    },
    {
      "cell_type": "code",
      "source": [
        "y = df['total_profit']\n",
        "\n",
        "\n",
        "plt.hist(y)"
      ],
      "metadata": {
        "colab": {
          "base_uri": "https://localhost:8080/",
          "height": 336
        },
        "id": "AgvAqniv5PqV",
        "outputId": "ad3d5c6b-8906-4bec-d789-b518cb11fb21"
      },
      "execution_count": 13,
      "outputs": [
        {
          "output_type": "execute_result",
          "data": {
            "text/plain": [
              "(array([2., 4., 1., 1., 1., 1., 0., 1., 0., 1.]),\n",
              " array([183300., 206250., 229200., 252150., 275100., 298050., 321000.,\n",
              "        343950., 366900., 389850., 412800.]),\n",
              " <a list of 10 Patch objects>)"
            ]
          },
          "metadata": {},
          "execution_count": 13
        },
        {
          "output_type": "display_data",
          "data": {
            "text/plain": [
              "<Figure size 432x288 with 1 Axes>"
            ],
            "image/png": "[encoded data removed]"
          },
          "metadata": {
            "needs_background": "light"
          }
        }
      ]
    },
    {
      "cell_type": "markdown",
      "source": [
        "8. Calculate total sale data for last year for each product and show it using a Pie chart."
      ],
      "metadata": {
        "id": "hamD5Tmw58Od"
      }
    },
    {
      "cell_type": "code",
      "source": [
        "Total_sales_productwise = []\n",
        "mylabels = list(df.columns)[1:7]\n",
        "for i in mylabels:\n",
        "  Total_sales_productwise.append(df[i].sum())\n",
        "# print(Total_sales_productwise)\n",
        "plt.pie(Total_sales_productwise,labels=mylabels)"
      ],
      "metadata": {
        "colab": {
          "base_uri": "https://localhost:8080/",
          "height": 479
        },
        "id": "JTFrmfnJ59TR",
        "outputId": "8dba3501-33c5-4646-9784-e81003ca0038"
      },
      "execution_count": 18,
      "outputs": [
        {
          "output_type": "stream",
          "name": "stdout",
          "text": [
            "[34480, 18515, 69910, 114010, 25410, 18515]\n"
          ]
        },
        {
          "output_type": "execute_result",
          "data": {
            "text/plain": [
              "([<matplotlib.patches.Wedge at 0x7fb9d2e2d6d0>,\n",
              "  <matplotlib.patches.Wedge at 0x7fb9d2e2da90>,\n",
              "  <matplotlib.patches.Wedge at 0x7fb9d2e38050>,\n",
              "  <matplotlib.patches.Wedge at 0x7fb9d2e38110>,\n",
              "  <matplotlib.patches.Wedge at 0x7fb9d2e38f50>,\n",
              "  <matplotlib.patches.Wedge at 0x7fb9d2e415d0>],\n",
              " [Text(1.0191857113582774, 0.4138363030995739, 'facecream'),\n",
              "  Text(0.6140655913722997, 0.912646398936953, 'facewash'),\n",
              "  Text(-0.4252111998343268, 1.0144926986112084, 'toothpaste'),\n",
              "  Text(-0.6978920809686103, -0.8502626907734472, 'bathingsoap'),\n",
              "  Text(0.8424027164269657, -0.7073596421598204, 'shampoo'),\n",
              "  Text(1.0764907254787095, -0.226202824823922, 'moisturizer')])"
            ]
          },
          "metadata": {},
          "execution_count": 18
        },
        {
          "output_type": "display_data",
          "data": {
            "text/plain": [
              "<Figure size 432x288 with 1 Axes>"
            ],
            "image/png": "[encoded data removed]"
          },
          "metadata": {}
        }
      ]
    },
    {
      "cell_type": "markdown",
      "source": [
        "9. Read Bathing soap facewash of all months and display it using the Subplot"
      ],
      "metadata": {
        "id": "TUtW8DERByJJ"
      }
    },
    {
      "cell_type": "code",
      "source": [
        "y1 = df['bathingsoap'] \n",
        "y1 = df['facewash'] \n",
        "\n",
        "x = df['month_number']\n",
        "plt.subplot(1,2,1)\n",
        "plt.plot(x,y1)\n",
        "\n",
        "\n",
        "plt.subplot(1,2,2)\n",
        "plt.plot(x,y1)\n",
        "\n",
        "\n"
      ],
      "metadata": {
        "colab": {
          "base_uri": "https://localhost:8080/",
          "height": 283
        },
        "id": "ZrkEooNuB2j0",
        "outputId": "6887abd7-a74e-4040-88b7-c60ade38c97f"
      },
      "execution_count": 19,
      "outputs": [
        {
          "output_type": "execute_result",
          "data": {
            "text/plain": [
              "[<matplotlib.lines.Line2D at 0x7fb9d2dcf290>]"
            ]
          },
          "metadata": {},
          "execution_count": 19
        },
        {
          "output_type": "display_data",
          "data": {
            "text/plain": [
              "<Figure size 432x288 with 2 Axes>"
            ],
            "image/png": "[encoded data removed]"
          },
          "metadata": {
            "needs_background": "light"
          }
        }
      ]
    },
    {
      "cell_type": "markdown",
      "source": [
        "10. Read all product sales data and show it using the stack plot."
      ],
      "metadata": {
        "id": "sQrl_9U2EQEm"
      }
    },
    {
      "cell_type": "code",
      "source": [
        "x = df['month_number']\n",
        "\n",
        "y1  = df['facecream']\n",
        "y2 = df['facewash']\n",
        "y3 = df['toothpaste']\n",
        "y4 = df['bathingsoap']\n",
        "y5 = df['shampoo']\n",
        "y6 = df['moisturizer']\n",
        "\n",
        "plt.stackplot(x,y1,y2,y3,y4,y5,y6)"
      ],
      "metadata": {
        "colab": {
          "base_uri": "https://localhost:8080/",
          "height": 372
        },
        "id": "afNtebc7ERQz",
        "outputId": "7ad797af-6dc2-4335-aa89-8bfe6f45a2ac"
      },
      "execution_count": 20,
      "outputs": [
        {
          "output_type": "execute_result",
          "data": {
            "text/plain": [
              "[<matplotlib.collections.PolyCollection at 0x7fb9d328a7d0>,\n",
              " <matplotlib.collections.PolyCollection at 0x7fb9d2ea2090>,\n",
              " <matplotlib.collections.PolyCollection at 0x7fb9d2ea25d0>,\n",
              " <matplotlib.collections.PolyCollection at 0x7fb9d2d3a150>,\n",
              " <matplotlib.collections.PolyCollection at 0x7fb9d2d3aa50>,\n",
              " <matplotlib.collections.PolyCollection at 0x7fb9d2d3a210>]"
            ]
          },
          "metadata": {},
          "execution_count": 20
        },
        {
          "output_type": "display_data",
          "data": {
            "text/plain": [
              "<Figure size 432x288 with 1 Axes>"
            ],
            "image/png": "[encoded data removed]"
          },
          "metadata": {
            "needs_background": "light"
          }
        }
      ]
    },
    {
      "cell_type": "markdown",
      "source": [
        "11. Get total profit of all months and show line plot with the following Style properties."
      ],
      "metadata": {
        "id": "kJHK5ki5GIsf"
      }
    },
    {
      "cell_type": "code",
      "source": [
        "y = df['total_profit']\n",
        "x = df['month_number']\n",
        "\n",
        "plt.plot(x,y,color='red',linestyle='dotted', marker='o',linewidth=4)\n",
        "plt.legend([\"red\"], loc =\"lower right\")\n",
        "plt.title(\"Dataset\",loc=\"left\")\n",
        "plt.xlabel(\"Month Number\")\n",
        "plt.ylabel(\"Sold unit’s number\")"
      ],
      "metadata": {
        "colab": {
          "base_uri": "https://localhost:8080/",
          "height": 313
        },
        "id": "lxaYiZf6GJpd",
        "outputId": "2faf3cce-a93d-4799-946c-172ef87c5dd8"
      },
      "execution_count": 29,
      "outputs": [
        {
          "output_type": "execute_result",
          "data": {
            "text/plain": [
              "Text(0, 0.5, 'Sold unit’s number')"
            ]
          },
          "metadata": {},
          "execution_count": 29
        },
        {
          "output_type": "display_data",
          "data": {
            "text/plain": [
              "<Figure size 432x288 with 1 Axes>"
            ],
            "image/png": "[encoded data removed]"
          },
          "metadata": {
            "needs_background": "light"
          }
        }
      ]
    },
    {
      "cell_type": "markdown",
      "source": [
        "Draw a scatter graph of any 50 random values of x and y axis."
      ],
      "metadata": {
        "id": "NKYuEHqsJCbq"
      }
    },
    {
      "cell_type": "code",
      "source": [
        "x = np.random.rand(50)\n",
        "y = np.random.rand(50)\n",
        "plt.scatter(x,y)"
      ],
      "metadata": {
        "colab": {
          "base_uri": "https://localhost:8080/",
          "height": 287
        },
        "id": "btxdL__aJEqV",
        "outputId": "6e7d8af3-4602-46b6-dfcd-babc86da9f73"
      },
      "execution_count": 30,
      "outputs": [
        {
          "output_type": "execute_result",
          "data": {
            "text/plain": [
              "<matplotlib.collections.PathCollection at 0x7fb9d290cb50>"
            ]
          },
          "metadata": {},
          "execution_count": 30
        },
        {
          "output_type": "display_data",
          "data": {
            "text/plain": [
              "<Figure size 432x288 with 1 Axes>"
            ],
            "image/png": "[encoded data removed]"
          },
          "metadata": {
            "needs_background": "light"
          }
        }
      ]
    },
    {
      "cell_type": "markdown",
      "source": [
        "2. Create data using numpy array from 0 to 5 with a gap of 0.01 for x axis, consider y axis\n",
        "as square values of x and show the line graph with grid lines"
      ],
      "metadata": {
        "id": "cK2wA9fNNYk_"
      }
    },
    {
      "cell_type": "code",
      "source": [
        "x = np.linspace(0,5,500)\n",
        "y = np.square(x)\n",
        "\n",
        "plt.plot(x,y)\n",
        "plt.grid()"
      ],
      "metadata": {
        "colab": {
          "base_uri": "https://localhost:8080/",
          "height": 265
        },
        "id": "FWAxRU0oNZt4",
        "outputId": "1876ca40-3c8c-441d-f2df-b133ee823808"
      },
      "execution_count": 32,
      "outputs": [
        {
          "output_type": "display_data",
          "data": {
            "text/plain": [
              "<Figure size 432x288 with 1 Axes>"
            ],
            "image/png": "[encoded data removed]"
          },
          "metadata": {
            "needs_background": "light"
          }
        }
      ]
    },
    {
      "cell_type": "code",
      "source": [
        "x = np.linspace(0,5,50)\n",
        "y1 = x\n",
        "y2 = np.square(x)\n",
        "y3 = np.power(x,3)\n",
        "plt.plot(x,y1,y2,y3)\n",
        "plt.grid()"
      ],
      "metadata": {
        "colab": {
          "base_uri": "https://localhost:8080/",
          "height": 265
        },
        "id": "h-0ex_rAOvYY",
        "outputId": "18e62cda-4107-4ada-a535-bb50cc1e9ea0"
      },
      "execution_count": 38,
      "outputs": [
        {
          "output_type": "display_data",
          "data": {
            "text/plain": [
              "<Figure size 432x288 with 1 Axes>"
            ],
            "image/png": "[encoded data removed]"
          },
          "metadata": {
            "needs_background": "light"
          }
        }
      ]
    },
    {
      "cell_type": "code",
      "source": [
        "df1 = pd.read_csv('DSScoreTerm1.csv')\n",
        "df2 = pd.read_csv('MathScoreTerm1.csv')\n",
        "df3 = pd.read_csv('PhysicsScoreTerm1.csv')\n",
        "\n",
        "df1.head()"
      ],
      "metadata": {
        "colab": {
          "base_uri": "https://localhost:8080/",
          "height": 204
        },
        "id": "FNjZx4qORd0I",
        "outputId": "ac97610f-bc11-45a2-d40d-f41d1ff53f3f"
      },
      "execution_count": 39,
      "outputs": [
        {
          "output_type": "execute_result",
          "data": {
            "text/plain": [
              "             Name  Score  Age         Ethinicity        Subject Sex  ID\n",
              "0  AI-KYUNG CHUNG   82.0   18     White American  Data Structue   M   1\n",
              "1     ALAN HARVEY   79.0   19  European American  Data Structue   M   2\n",
              "2    ALAN REYNAUD   39.0   19  European American  Data Structue   M   3\n",
              "3  ALBERT CENDANA   76.0   18     White American  Data Structue   M   4\n",
              "4  ALBERT HOLT JR   76.0   18     White American  Data Structue   F   5"
            ],
            "text/html": [
              "\n",
              "  <div id=\"df-7971f3db-b92a-4628-b72e-bf5803bb9a7b\">\n",
              "    <div class=\"colab-df-container\">\n",
              "      <div>\n",
              "<style scoped>\n",
              "    .dataframe tbody tr th:only-of-type {\n",
              "        vertical-align: middle;\n",
              "    }\n",
              "\n",
              "    .dataframe tbody tr th {\n",
              "        vertical-align: top;\n",
              "    }\n",
              "\n",
              "    .dataframe thead th {\n",
              "        text-align: right;\n",
              "    }\n",
              "</style>\n",
              "<table border=\"1\" class=\"dataframe\">\n",
              "  <thead>\n",
              "    <tr style=\"text-align: right;\">\n",
              "      <th></th>\n",
              "      <th>Name</th>\n",
              "      <th>Score</th>\n",
              "      <th>Age</th>\n",
              "      <th>Ethinicity</th>\n",
              "      <th>Subject</th>\n",
              "      <th>Sex</th>\n",
              "      <th>ID</th>\n",
              "    </tr>\n",
              "  </thead>\n",
              "  <tbody>\n",
              "    <tr>\n",
              "      <th>0</th>\n",
              "      <td>AI-KYUNG CHUNG</td>\n",
              "      <td>82.0</td>\n",
              "      <td>18</td>\n",
              "      <td>White American</td>\n",
              "      <td>Data Structue</td>\n",
              "      <td>M</td>\n",
              "      <td>1</td>\n",
              "    </tr>\n",
              "    <tr>\n",
              "      <th>1</th>\n",
              "      <td>ALAN HARVEY</td>\n",
              "      <td>79.0</td>\n",
              "      <td>19</td>\n",
              "      <td>European American</td>\n",
              "      <td>Data Structue</td>\n",
              "      <td>M</td>\n",
              "      <td>2</td>\n",
              "    </tr>\n",
              "    <tr>\n",
              "      <th>2</th>\n",
              "      <td>ALAN REYNAUD</td>\n",
              "      <td>39.0</td>\n",
              "      <td>19</td>\n",
              "      <td>European American</td>\n",
              "      <td>Data Structue</td>\n",
              "      <td>M</td>\n",
              "      <td>3</td>\n",
              "    </tr>\n",
              "    <tr>\n",
              "      <th>3</th>\n",
              "      <td>ALBERT CENDANA</td>\n",
              "      <td>76.0</td>\n",
              "      <td>18</td>\n",
              "      <td>White American</td>\n",
              "      <td>Data Structue</td>\n",
              "      <td>M</td>\n",
              "      <td>4</td>\n",
              "    </tr>\n",
              "    <tr>\n",
              "      <th>4</th>\n",
              "      <td>ALBERT HOLT JR</td>\n",
              "      <td>76.0</td>\n",
              "      <td>18</td>\n",
              "      <td>White American</td>\n",
              "      <td>Data Structue</td>\n",
              "      <td>F</td>\n",
              "      <td>5</td>\n",
              "    </tr>\n",
              "  </tbody>\n",
              "</table>\n",
              "</div>\n",
              "      <button class=\"colab-df-convert\" onclick=\"convertToInteractive('df-7971f3db-b92a-4628-b72e-bf5803bb9a7b')\"\n",
              "              title=\"Convert this dataframe to an interactive table.\"\n",
              "              style=\"display:none;\">\n",
              "        \n",
              "  <svg xmlns=\"http://www.w3.org/2000/svg\" height=\"24px\"viewBox=\"0 0 24 24\"\n",
              "       width=\"24px\">\n",
              "    <path d=\"M0 0h24v24H0V0z\" fill=\"none\"/>\n",
              "    <path d=\"M18.56 5.44l.94 2.06.94-2.06 2.06-.94-2.06-.94-.94-2.06-.94 2.06-2.06.94zm-11 1L8.5 8.5l.94-2.06 2.06-.94-2.06-.94L8.5 2.5l-.94 2.06-2.06.94zm10 10l.94 2.06.94-2.06 2.06-.94-2.06-.94-.94-2.06-.94 2.06-2.06.94z\"/><path d=\"M17.41 7.96l-1.37-1.37c-.4-.4-.92-.59-1.43-.59-.52 0-1.04.2-1.43.59L10.3 9.45l-7.72 7.72c-.78.78-.78 2.05 0 2.83L4 21.41c.39.39.9.59 1.41.59.51 0 1.02-.2 1.41-.59l7.78-7.78 2.81-2.81c.8-.78.8-2.07 0-2.86zM5.41 20L4 18.59l7.72-7.72 1.47 1.35L5.41 20z\"/>\n",
              "  </svg>\n",
              "      </button>\n",
              "      \n",
              "  <style>\n",
              "    .colab-df-container {\n",
              "      display:flex;\n",
              "      flex-wrap:wrap;\n",
              "      gap: 12px;\n",
              "    }\n",
              "\n",
              "    .colab-df-convert {\n",
              "      background-color: #E8F0FE;\n",
              "      border: none;\n",
              "      border-radius: 50%;\n",
              "      cursor: pointer;\n",
              "      display: none;\n",
              "      fill: #1967D2;\n",
              "      height: 32px;\n",
              "      padding: 0 0 0 0;\n",
              "      width: 32px;\n",
              "    }\n",
              "\n",
              "    .colab-df-convert:hover {\n",
              "      background-color: #E2EBFA;\n",
              "      box-shadow: 0px 1px 2px rgba(60, 64, 67, 0.3), 0px 1px 3px 1px rgba(60, 64, 67, 0.15);\n",
              "      fill: #174EA6;\n",
              "    }\n",
              "\n",
              "    [theme=dark] .colab-df-convert {\n",
              "      background-color: #3B4455;\n",
              "      fill: #D2E3FC;\n",
              "    }\n",
              "\n",
              "    [theme=dark] .colab-df-convert:hover {\n",
              "      background-color: #434B5C;\n",
              "      box-shadow: 0px 1px 3px 1px rgba(0, 0, 0, 0.15);\n",
              "      filter: drop-shadow(0px 1px 2px rgba(0, 0, 0, 0.3));\n",
              "      fill: #FFFFFF;\n",
              "    }\n",
              "  </style>\n",
              "\n",
              "      <script>\n",
              "        const buttonEl =\n",
              "          document.querySelector('#df-7971f3db-b92a-4628-b72e-bf5803bb9a7b button.colab-df-convert');\n",
              "        buttonEl.style.display =\n",
              "          google.colab.kernel.accessAllowed ? 'block' : 'none';\n",
              "\n",
              "        async function convertToInteractive(key) {\n",
              "          const element = document.querySelector('#df-7971f3db-b92a-4628-b72e-bf5803bb9a7b');\n",
              "          const dataTable =\n",
              "            await google.colab.kernel.invokeFunction('convertToInteractive',\n",
              "                                                     [key], {});\n",
              "          if (!dataTable) return;\n",
              "\n",
              "          const docLinkHtml = 'Like what you see? Visit the ' +\n",
              "            '<a target=\"_blank\" href=https://colab.research.google.com/notebooks/data_table.ipynb>data table notebook</a>'\n",
              "            + ' to learn more about interactive tables.';\n",
              "          element.innerHTML = '';\n",
              "          dataTable['output_type'] = 'display_data';\n",
              "          await google.colab.output.renderOutput(dataTable, element);\n",
              "          const docLink = document.createElement('div');\n",
              "          docLink.innerHTML = docLinkHtml;\n",
              "          element.appendChild(docLink);\n",
              "        }\n",
              "      </script>\n",
              "    </div>\n",
              "  </div>\n",
              "  "
            ]
          },
          "metadata": {},
          "execution_count": 39
        }
      ]
    },
    {
      "cell_type": "code",
      "source": [
        "df1.drop(['Name', 'Ethinicity'], axis=1).head()"
      ],
      "metadata": {
        "colab": {
          "base_uri": "https://localhost:8080/",
          "height": 204
        },
        "id": "eFM5Jj8JSQ1M",
        "outputId": "43444a91-05e9-428e-ef78-dc02c76f88ff"
      },
      "execution_count": 44,
      "outputs": [
        {
          "output_type": "execute_result",
          "data": {
            "text/plain": [
              "   Score  Age        Subject Sex  ID\n",
              "0   82.0   18  Data Structue   M   1\n",
              "1   79.0   19  Data Structue   M   2\n",
              "2   39.0   19  Data Structue   M   3\n",
              "3   76.0   18  Data Structue   M   4\n",
              "4   76.0   18  Data Structue   F   5"
            ],
            "text/html": [
              "\n",
              "  <div id=\"df-db701048-6630-470a-a194-3a0ca0c18c00\">\n",
              "    <div class=\"colab-df-container\">\n",
              "      <div>\n",
              "<style scoped>\n",
              "    .dataframe tbody tr th:only-of-type {\n",
              "        vertical-align: middle;\n",
              "    }\n",
              "\n",
              "    .dataframe tbody tr th {\n",
              "        vertical-align: top;\n",
              "    }\n",
              "\n",
              "    .dataframe thead th {\n",
              "        text-align: right;\n",
              "    }\n",
              "</style>\n",
              "<table border=\"1\" class=\"dataframe\">\n",
              "  <thead>\n",
              "    <tr style=\"text-align: right;\">\n",
              "      <th></th>\n",
              "      <th>Score</th>\n",
              "      <th>Age</th>\n",
              "      <th>Subject</th>\n",
              "      <th>Sex</th>\n",
              "      <th>ID</th>\n",
              "    </tr>\n",
              "  </thead>\n",
              "  <tbody>\n",
              "    <tr>\n",
              "      <th>0</th>\n",
              "      <td>82.0</td>\n",
              "      <td>18</td>\n",
              "      <td>Data Structue</td>\n",
              "      <td>M</td>\n",
              "      <td>1</td>\n",
              "    </tr>\n",
              "    <tr>\n",
              "      <th>1</th>\n",
              "      <td>79.0</td>\n",
              "      <td>19</td>\n",
              "      <td>Data Structue</td>\n",
              "      <td>M</td>\n",
              "      <td>2</td>\n",
              "    </tr>\n",
              "    <tr>\n",
              "      <th>2</th>\n",
              "      <td>39.0</td>\n",
              "      <td>19</td>\n",
              "      <td>Data Structue</td>\n",
              "      <td>M</td>\n",
              "      <td>3</td>\n",
              "    </tr>\n",
              "    <tr>\n",
              "      <th>3</th>\n",
              "      <td>76.0</td>\n",
              "      <td>18</td>\n",
              "      <td>Data Structue</td>\n",
              "      <td>M</td>\n",
              "      <td>4</td>\n",
              "    </tr>\n",
              "    <tr>\n",
              "      <th>4</th>\n",
              "      <td>76.0</td>\n",
              "      <td>18</td>\n",
              "      <td>Data Structue</td>\n",
              "      <td>F</td>\n",
              "      <td>5</td>\n",
              "    </tr>\n",
              "  </tbody>\n",
              "</table>\n",
              "</div>\n",
              "      <button class=\"colab-df-convert\" onclick=\"convertToInteractive('df-db701048-6630-470a-a194-3a0ca0c18c00')\"\n",
              "              title=\"Convert this dataframe to an interactive table.\"\n",
              "              style=\"display:none;\">\n",
              "        \n",
              "  <svg xmlns=\"http://www.w3.org/2000/svg\" height=\"24px\"viewBox=\"0 0 24 24\"\n",
              "       width=\"24px\">\n",
              "    <path d=\"M0 0h24v24H0V0z\" fill=\"none\"/>\n",
              "    <path d=\"M18.56 5.44l.94 2.06.94-2.06 2.06-.94-2.06-.94-.94-2.06-.94 2.06-2.06.94zm-11 1L8.5 8.5l.94-2.06 2.06-.94-2.06-.94L8.5 2.5l-.94 2.06-2.06.94zm10 10l.94 2.06.94-2.06 2.06-.94-2.06-.94-.94-2.06-.94 2.06-2.06.94z\"/><path d=\"M17.41 7.96l-1.37-1.37c-.4-.4-.92-.59-1.43-.59-.52 0-1.04.2-1.43.59L10.3 9.45l-7.72 7.72c-.78.78-.78 2.05 0 2.83L4 21.41c.39.39.9.59 1.41.59.51 0 1.02-.2 1.41-.59l7.78-7.78 2.81-2.81c.8-.78.8-2.07 0-2.86zM5.41 20L4 18.59l7.72-7.72 1.47 1.35L5.41 20z\"/>\n",
              "  </svg>\n",
              "      </button>\n",
              "      \n",
              "  <style>\n",
              "    .colab-df-container {\n",
              "      display:flex;\n",
              "      flex-wrap:wrap;\n",
              "      gap: 12px;\n",
              "    }\n",
              "\n",
              "    .colab-df-convert {\n",
              "      background-color: #E8F0FE;\n",
              "      border: none;\n",
              "      border-radius: 50%;\n",
              "      cursor: pointer;\n",
              "      display: none;\n",
              "      fill: #1967D2;\n",
              "      height: 32px;\n",
              "      padding: 0 0 0 0;\n",
              "      width: 32px;\n",
              "    }\n",
              "\n",
              "    .colab-df-convert:hover {\n",
              "      background-color: #E2EBFA;\n",
              "      box-shadow: 0px 1px 2px rgba(60, 64, 67, 0.3), 0px 1px 3px 1px rgba(60, 64, 67, 0.15);\n",
              "      fill: #174EA6;\n",
              "    }\n",
              "\n",
              "    [theme=dark] .colab-df-convert {\n",
              "      background-color: #3B4455;\n",
              "      fill: #D2E3FC;\n",
              "    }\n",
              "\n",
              "    [theme=dark] .colab-df-convert:hover {\n",
              "      background-color: #434B5C;\n",
              "      box-shadow: 0px 1px 3px 1px rgba(0, 0, 0, 0.15);\n",
              "      filter: drop-shadow(0px 1px 2px rgba(0, 0, 0, 0.3));\n",
              "      fill: #FFFFFF;\n",
              "    }\n",
              "  </style>\n",
              "\n",
              "      <script>\n",
              "        const buttonEl =\n",
              "          document.querySelector('#df-db701048-6630-470a-a194-3a0ca0c18c00 button.colab-df-convert');\n",
              "        buttonEl.style.display =\n",
              "          google.colab.kernel.accessAllowed ? 'block' : 'none';\n",
              "\n",
              "        async function convertToInteractive(key) {\n",
              "          const element = document.querySelector('#df-db701048-6630-470a-a194-3a0ca0c18c00');\n",
              "          const dataTable =\n",
              "            await google.colab.kernel.invokeFunction('convertToInteractive',\n",
              "                                                     [key], {});\n",
              "          if (!dataTable) return;\n",
              "\n",
              "          const docLinkHtml = 'Like what you see? Visit the ' +\n",
              "            '<a target=\"_blank\" href=https://colab.research.google.com/notebooks/data_table.ipynb>data table notebook</a>'\n",
              "            + ' to learn more about interactive tables.';\n",
              "          element.innerHTML = '';\n",
              "          dataTable['output_type'] = 'display_data';\n",
              "          await google.colab.output.renderOutput(dataTable, element);\n",
              "          const docLink = document.createElement('div');\n",
              "          docLink.innerHTML = docLinkHtml;\n",
              "          element.appendChild(docLink);\n",
              "        }\n",
              "      </script>\n",
              "    </div>\n",
              "  </div>\n",
              "  "
            ]
          },
          "metadata": {},
          "execution_count": 44
        }
      ]
    },
    {
      "cell_type": "code",
      "source": [
        "df1.fillna(0)\n",
        "df1.head()"
      ],
      "metadata": {
        "colab": {
          "base_uri": "https://localhost:8080/",
          "height": 204
        },
        "id": "0LhhyGELSty3",
        "outputId": "5a290673-ad90-4dfa-e63c-e5c55e428607"
      },
      "execution_count": 46,
      "outputs": [
        {
          "output_type": "execute_result",
          "data": {
            "text/plain": [
              "             Name  Score  Age         Ethinicity        Subject Sex  ID\n",
              "0  AI-KYUNG CHUNG   82.0   18     White American  Data Structue   M   1\n",
              "1     ALAN HARVEY   79.0   19  European American  Data Structue   M   2\n",
              "2    ALAN REYNAUD   39.0   19  European American  Data Structue   M   3\n",
              "3  ALBERT CENDANA   76.0   18     White American  Data Structue   M   4\n",
              "4  ALBERT HOLT JR   76.0   18     White American  Data Structue   F   5"
            ],
            "text/html": [
              "\n",
              "  <div id=\"df-34b1391a-960c-4764-85f5-a3b384ee47db\">\n",
              "    <div class=\"colab-df-container\">\n",
              "      <div>\n",
              "<style scoped>\n",
              "    .dataframe tbody tr th:only-of-type {\n",
              "        vertical-align: middle;\n",
              "    }\n",
              "\n",
              "    .dataframe tbody tr th {\n",
              "        vertical-align: top;\n",
              "    }\n",
              "\n",
              "    .dataframe thead th {\n",
              "        text-align: right;\n",
              "    }\n",
              "</style>\n",
              "<table border=\"1\" class=\"dataframe\">\n",
              "  <thead>\n",
              "    <tr style=\"text-align: right;\">\n",
              "      <th></th>\n",
              "      <th>Name</th>\n",
              "      <th>Score</th>\n",
              "      <th>Age</th>\n",
              "      <th>Ethinicity</th>\n",
              "      <th>Subject</th>\n",
              "      <th>Sex</th>\n",
              "      <th>ID</th>\n",
              "    </tr>\n",
              "  </thead>\n",
              "  <tbody>\n",
              "    <tr>\n",
              "      <th>0</th>\n",
              "      <td>AI-KYUNG CHUNG</td>\n",
              "      <td>82.0</td>\n",
              "      <td>18</td>\n",
              "      <td>White American</td>\n",
              "      <td>Data Structue</td>\n",
              "      <td>M</td>\n",
              "      <td>1</td>\n",
              "    </tr>\n",
              "    <tr>\n",
              "      <th>1</th>\n",
              "      <td>ALAN HARVEY</td>\n",
              "      <td>79.0</td>\n",
              "      <td>19</td>\n",
              "      <td>European American</td>\n",
              "      <td>Data Structue</td>\n",
              "      <td>M</td>\n",
              "      <td>2</td>\n",
              "    </tr>\n",
              "    <tr>\n",
              "      <th>2</th>\n",
              "      <td>ALAN REYNAUD</td>\n",
              "      <td>39.0</td>\n",
              "      <td>19</td>\n",
              "      <td>European American</td>\n",
              "      <td>Data Structue</td>\n",
              "      <td>M</td>\n",
              "      <td>3</td>\n",
              "    </tr>\n",
              "    <tr>\n",
              "      <th>3</th>\n",
              "      <td>ALBERT CENDANA</td>\n",
              "      <td>76.0</td>\n",
              "      <td>18</td>\n",
              "      <td>White American</td>\n",
              "      <td>Data Structue</td>\n",
              "      <td>M</td>\n",
              "      <td>4</td>\n",
              "    </tr>\n",
              "    <tr>\n",
              "      <th>4</th>\n",
              "      <td>ALBERT HOLT JR</td>\n",
              "      <td>76.0</td>\n",
              "      <td>18</td>\n",
              "      <td>White American</td>\n",
              "      <td>Data Structue</td>\n",
              "      <td>F</td>\n",
              "      <td>5</td>\n",
              "    </tr>\n",
              "  </tbody>\n",
              "</table>\n",
              "</div>\n",
              "      <button class=\"colab-df-convert\" onclick=\"convertToInteractive('df-34b1391a-960c-4764-85f5-a3b384ee47db')\"\n",
              "              title=\"Convert this dataframe to an interactive table.\"\n",
              "              style=\"display:none;\">\n",
              "        \n",
              "  <svg xmlns=\"http://www.w3.org/2000/svg\" height=\"24px\"viewBox=\"0 0 24 24\"\n",
              "       width=\"24px\">\n",
              "    <path d=\"M0 0h24v24H0V0z\" fill=\"none\"/>\n",
              "    <path d=\"M18.56 5.44l.94 2.06.94-2.06 2.06-.94-2.06-.94-.94-2.06-.94 2.06-2.06.94zm-11 1L8.5 8.5l.94-2.06 2.06-.94-2.06-.94L8.5 2.5l-.94 2.06-2.06.94zm10 10l.94 2.06.94-2.06 2.06-.94-2.06-.94-.94-2.06-.94 2.06-2.06.94z\"/><path d=\"M17.41 7.96l-1.37-1.37c-.4-.4-.92-.59-1.43-.59-.52 0-1.04.2-1.43.59L10.3 9.45l-7.72 7.72c-.78.78-.78 2.05 0 2.83L4 21.41c.39.39.9.59 1.41.59.51 0 1.02-.2 1.41-.59l7.78-7.78 2.81-2.81c.8-.78.8-2.07 0-2.86zM5.41 20L4 18.59l7.72-7.72 1.47 1.35L5.41 20z\"/>\n",
              "  </svg>\n",
              "      </button>\n",
              "      \n",
              "  <style>\n",
              "    .colab-df-container {\n",
              "      display:flex;\n",
              "      flex-wrap:wrap;\n",
              "      gap: 12px;\n",
              "    }\n",
              "\n",
              "    .colab-df-convert {\n",
              "      background-color: #E8F0FE;\n",
              "      border: none;\n",
              "      border-radius: 50%;\n",
              "      cursor: pointer;\n",
              "      display: none;\n",
              "      fill: #1967D2;\n",
              "      height: 32px;\n",
              "      padding: 0 0 0 0;\n",
              "      width: 32px;\n",
              "    }\n",
              "\n",
              "    .colab-df-convert:hover {\n",
              "      background-color: #E2EBFA;\n",
              "      box-shadow: 0px 1px 2px rgba(60, 64, 67, 0.3), 0px 1px 3px 1px rgba(60, 64, 67, 0.15);\n",
              "      fill: #174EA6;\n",
              "    }\n",
              "\n",
              "    [theme=dark] .colab-df-convert {\n",
              "      background-color: #3B4455;\n",
              "      fill: #D2E3FC;\n",
              "    }\n",
              "\n",
              "    [theme=dark] .colab-df-convert:hover {\n",
              "      background-color: #434B5C;\n",
              "      box-shadow: 0px 1px 3px 1px rgba(0, 0, 0, 0.15);\n",
              "      filter: drop-shadow(0px 1px 2px rgba(0, 0, 0, 0.3));\n",
              "      fill: #FFFFFF;\n",
              "    }\n",
              "  </style>\n",
              "\n",
              "      <script>\n",
              "        const buttonEl =\n",
              "          document.querySelector('#df-34b1391a-960c-4764-85f5-a3b384ee47db button.colab-df-convert');\n",
              "        buttonEl.style.display =\n",
              "          google.colab.kernel.accessAllowed ? 'block' : 'none';\n",
              "\n",
              "        async function convertToInteractive(key) {\n",
              "          const element = document.querySelector('#df-34b1391a-960c-4764-85f5-a3b384ee47db');\n",
              "          const dataTable =\n",
              "            await google.colab.kernel.invokeFunction('convertToInteractive',\n",
              "                                                     [key], {});\n",
              "          if (!dataTable) return;\n",
              "\n",
              "          const docLinkHtml = 'Like what you see? Visit the ' +\n",
              "            '<a target=\"_blank\" href=https://colab.research.google.com/notebooks/data_table.ipynb>data table notebook</a>'\n",
              "            + ' to learn more about interactive tables.';\n",
              "          element.innerHTML = '';\n",
              "          dataTable['output_type'] = 'display_data';\n",
              "          await google.colab.output.renderOutput(dataTable, element);\n",
              "          const docLink = document.createElement('div');\n",
              "          docLink.innerHTML = docLinkHtml;\n",
              "          element.appendChild(docLink);\n",
              "        }\n",
              "      </script>\n",
              "    </div>\n",
              "  </div>\n",
              "  "
            ]
          },
          "metadata": {},
          "execution_count": 46
        }
      ]
    }
  ],
  "metadata": {
    "colab": {
      "name": "B-79 Praactical 2 Part A",
      "provenance": [],
      "collapsed_sections": []
    },
    "kernelspec": {
      "display_name": "Python 3",
      "name": "python3"
    },
    "language_info": {
      "name": "python"
    }
  },
  "nbformat": 4,
  "nbformat_minor": 0
}